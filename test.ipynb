{
  "metadata": {
    "language_info": {
      "codemirror_mode": {
        "name": "ipython",
        "version": 3
      },
      "file_extension": ".py",
      "mimetype": "text/x-python",
      "name": "python",
      "nbconvert_exporter": "python",
      "pygments_lexer": "ipython3",
      "version": "3.9.0-final"
    },
    "orig_nbformat": 2,
    "kernelspec": {
      "name": "python3",
      "display_name": "Python 3.9.0 64-bit",
      "metadata": {
        "interpreter": {
          "hash": "35f30dc7e449ee941a1582d3cf8a070b518507b6ec4462c873782396104f24f6"
        }
      }
    },
    "colab": {
      "name": "test.ipynb",
      "provenance": []
    }
  },
  "nbformat": 4,
  "nbformat_minor": 0,
  "cells": [
    {
      "cell_type": "code",
      "execution_count": 11,
      "metadata": {
        "id": "AZuWg7hAJaty"
      },
      "outputs": [],
      "source": [
        "import pandas as pd\n",
        "import datetime as dt\n",
        "from pandas_profiling import ProfileReport\n",
        "import os\n",
        "import requests\n",
        "import matplotlib.pyplot as plt\n",
        "import seaborn as sns\n",
        "import numpy as np\n",
        "import math"
      ]
    },
    {
      "cell_type": "code",
      "execution_count": 2,
      "metadata": {
        "id": "3eaT33CgJatz"
      },
      "outputs": [],
      "source": [
        "orderbook = pd.read_csv('df_order_book_20200817.csv')\n",
        "(orderbook.isnull().sum()/len(orderbook)) * 100\n",
        "orderbook.loc[:,'BidQuoteQty']= orderbook.loc[:,'bidPrice'] * orderbook.loc[:,'bidQty']\n",
        "orderbook.loc[:,'AskQuoteQty'] = orderbook.loc[:,'askPrice'] * orderbook.loc[:,'askQty']\n",
        "orderbook_100=orderbook.drop(orderbook[orderbook['depth']>99].index)\n",
        "orderbook_100=orderbook_100.reset_index(drop=True)"
      ]
    },
    {
      "cell_type": "markdown",
      "source": [
        "orderbook\n",
        "orderbook_100\n",
        "orderbook_1\n"
      ],
      "metadata": {
        "id": "ZrWObjDJAl3t"
      }
    },
    {
      "cell_type": "code",
      "execution_count": 5,
      "metadata": {
        "id": "ju_yiTAhJat0"
      },
      "outputs": [],
      "source": [
        "# build corresbonding \n",
        "\n",
        "class Node:   \n",
        "  def __init__(self): \n",
        "    # price, quantity and quoteQty\n",
        "    self.bid = np.zeros((100, 3), dtype=float)\n",
        "    self.ask = np.zeros((100, 3), dtype=float)\n",
        "    self.spread=0\n",
        "    self.mid=0\n",
        "    # weighted average price \n",
        "    self.wap=0\n",
        "\n",
        "    \n",
        "\n",
        "orderbook_list=[]\n",
        "timestamps=set()\n",
        "idx=0\n",
        "while idx<len(orderbook_100):\n",
        "  a=Node()\n",
        "  for i in range(100):\n",
        "    if idx>=len(orderbook_100):\n",
        "      break\n",
        "    \n",
        "    a.bid[i][0]=orderbook_100['bidPrice'][idx]\n",
        "    a.bid[i][1]=orderbook_100['bidQty'][idx]\n",
        "    a.bid[i][2]=orderbook_100['BidQuoteQty'][idx]\n",
        "    a.ask[i][0]=orderbook_100['askPrice'][idx]\n",
        "    a.ask[i][1]=orderbook_100['askQty'][idx]\n",
        "    a.ask[i][2]=orderbook_100['AskQuoteQty'][idx]\n",
        "    if i==0:\n",
        "      a.mid=(a.bid[0][0]+a.ask[0][0])/2\n",
        "      a.spread=(a.ask[0][0]/a.bid[0][0])-1\n",
        "      a.wap=(a.bid[0][0]*a.ask[0][1]+a.bid[0][1]*a.ask[0][0])/(a.ask[0][1]+a.bid[0][1])\n",
        "\n",
        "    idx=idx+1\n",
        "  \n",
        "  orderbook_list.append(a)\n",
        "\n",
        "      "
      ]
    },
    {
      "cell_type": "code",
      "source": [
        "bidPrice=[]\n",
        "bidQty=[]\n",
        "askPrice=[]\n",
        "askQty=[]\n",
        "midPrice=[]\n",
        "wap=[]\n",
        "spread=[]\n",
        "for node in orderbook_list:\n",
        "  bidPrice.append(node.bid[0][0])\n",
        "  bidQty.append(node.bid[0][1])\n",
        "  askPrice.append(node.ask[0][0])\n",
        "  askQty.append(node.ask[0][1])\n",
        "  midPrice.append(node.mid)\n",
        "  wap.append(node.wap)\n",
        "  spread.append(node.spread)\n",
        "\n",
        "orderbook_1 = pd.DataFrame(list(zip( bidPrice, bidQty,askPrice,askQty, midPrice,wap, spread)),\n",
        "               columns =['bidPrice', 'bidQty','askPrice','askQty', 'midPrice','wap', 'spread'])\n",
        "orderbook_1['Log returns'] = np.log(orderbook_1['midPrice']/orderbook_1['midPrice'].shift())\n",
        "orderbook_1['Log returns'].std()\n",
        "orderbook_1"
      ],
      "metadata": {
        "colab": {
          "base_uri": "https://localhost:8080/",
          "height": 424
        },
        "id": "-FzzKvPkAMdX",
        "outputId": "5cce3432-536c-4bb0-c64d-55bb24a585b8"
      },
      "execution_count": 16,
      "outputs": [
        {
          "output_type": "execute_result",
          "data": {
            "text/plain": [
              "      bidPrice    bidQty  askPrice    askQty   midPrice           wap  \\\n",
              "0     12329.07  0.001113  12329.27  1.600000  12329.170  12329.070139   \n",
              "1     12329.79  0.001151  12329.80  0.010410  12329.795  12329.790996   \n",
              "2     12329.53  1.876932  12329.54  0.136318  12329.535  12329.539323   \n",
              "3     12329.53  2.650926  12329.54  0.016285  12329.535  12329.539939   \n",
              "4     12330.38  0.431779  12330.39  0.010367  12330.385  12330.389766   \n",
              "...        ...       ...       ...       ...        ...           ...   \n",
              "2754  12354.27  0.171223  12354.28  3.418578  12354.275  12354.270477   \n",
              "2755  12354.27  3.063886  12354.28  3.317418  12354.275  12354.274801   \n",
              "2756  12354.27  6.014475  12354.28  0.400000  12354.275  12354.279376   \n",
              "2757  12354.28  3.529510  12354.58  0.034787  12354.430  12354.577072   \n",
              "2758  12354.35  0.009440  12354.36  2.443991  12354.355  12354.350038   \n",
              "\n",
              "            spread  Log returns  \n",
              "0     1.622182e-05          NaN  \n",
              "1     8.110438e-07     0.000051  \n",
              "2     8.110609e-07    -0.000021  \n",
              "3     8.110609e-07     0.000000  \n",
              "4     8.110050e-07     0.000069  \n",
              "...            ...          ...  \n",
              "2754  8.094367e-07     0.000000  \n",
              "2755  8.094367e-07     0.000000  \n",
              "2756  8.094367e-07     0.000000  \n",
              "2757  2.428308e-05     0.000013  \n",
              "2758  8.094315e-07    -0.000006  \n",
              "\n",
              "[2759 rows x 8 columns]"
            ],
            "text/html": [
              "\n",
              "  <div id=\"df-82fcd3bf-a368-40fb-812b-f3998d5675d5\">\n",
              "    <div class=\"colab-df-container\">\n",
              "      <div>\n",
              "<style scoped>\n",
              "    .dataframe tbody tr th:only-of-type {\n",
              "        vertical-align: middle;\n",
              "    }\n",
              "\n",
              "    .dataframe tbody tr th {\n",
              "        vertical-align: top;\n",
              "    }\n",
              "\n",
              "    .dataframe thead th {\n",
              "        text-align: right;\n",
              "    }\n",
              "</style>\n",
              "<table border=\"1\" class=\"dataframe\">\n",
              "  <thead>\n",
              "    <tr style=\"text-align: right;\">\n",
              "      <th></th>\n",
              "      <th>bidPrice</th>\n",
              "      <th>bidQty</th>\n",
              "      <th>askPrice</th>\n",
              "      <th>askQty</th>\n",
              "      <th>midPrice</th>\n",
              "      <th>wap</th>\n",
              "      <th>spread</th>\n",
              "      <th>Log returns</th>\n",
              "    </tr>\n",
              "  </thead>\n",
              "  <tbody>\n",
              "    <tr>\n",
              "      <th>0</th>\n",
              "      <td>12329.07</td>\n",
              "      <td>0.001113</td>\n",
              "      <td>12329.27</td>\n",
              "      <td>1.600000</td>\n",
              "      <td>12329.170</td>\n",
              "      <td>12329.070139</td>\n",
              "      <td>1.622182e-05</td>\n",
              "      <td>NaN</td>\n",
              "    </tr>\n",
              "    <tr>\n",
              "      <th>1</th>\n",
              "      <td>12329.79</td>\n",
              "      <td>0.001151</td>\n",
              "      <td>12329.80</td>\n",
              "      <td>0.010410</td>\n",
              "      <td>12329.795</td>\n",
              "      <td>12329.790996</td>\n",
              "      <td>8.110438e-07</td>\n",
              "      <td>0.000051</td>\n",
              "    </tr>\n",
              "    <tr>\n",
              "      <th>2</th>\n",
              "      <td>12329.53</td>\n",
              "      <td>1.876932</td>\n",
              "      <td>12329.54</td>\n",
              "      <td>0.136318</td>\n",
              "      <td>12329.535</td>\n",
              "      <td>12329.539323</td>\n",
              "      <td>8.110609e-07</td>\n",
              "      <td>-0.000021</td>\n",
              "    </tr>\n",
              "    <tr>\n",
              "      <th>3</th>\n",
              "      <td>12329.53</td>\n",
              "      <td>2.650926</td>\n",
              "      <td>12329.54</td>\n",
              "      <td>0.016285</td>\n",
              "      <td>12329.535</td>\n",
              "      <td>12329.539939</td>\n",
              "      <td>8.110609e-07</td>\n",
              "      <td>0.000000</td>\n",
              "    </tr>\n",
              "    <tr>\n",
              "      <th>4</th>\n",
              "      <td>12330.38</td>\n",
              "      <td>0.431779</td>\n",
              "      <td>12330.39</td>\n",
              "      <td>0.010367</td>\n",
              "      <td>12330.385</td>\n",
              "      <td>12330.389766</td>\n",
              "      <td>8.110050e-07</td>\n",
              "      <td>0.000069</td>\n",
              "    </tr>\n",
              "    <tr>\n",
              "      <th>...</th>\n",
              "      <td>...</td>\n",
              "      <td>...</td>\n",
              "      <td>...</td>\n",
              "      <td>...</td>\n",
              "      <td>...</td>\n",
              "      <td>...</td>\n",
              "      <td>...</td>\n",
              "      <td>...</td>\n",
              "    </tr>\n",
              "    <tr>\n",
              "      <th>2754</th>\n",
              "      <td>12354.27</td>\n",
              "      <td>0.171223</td>\n",
              "      <td>12354.28</td>\n",
              "      <td>3.418578</td>\n",
              "      <td>12354.275</td>\n",
              "      <td>12354.270477</td>\n",
              "      <td>8.094367e-07</td>\n",
              "      <td>0.000000</td>\n",
              "    </tr>\n",
              "    <tr>\n",
              "      <th>2755</th>\n",
              "      <td>12354.27</td>\n",
              "      <td>3.063886</td>\n",
              "      <td>12354.28</td>\n",
              "      <td>3.317418</td>\n",
              "      <td>12354.275</td>\n",
              "      <td>12354.274801</td>\n",
              "      <td>8.094367e-07</td>\n",
              "      <td>0.000000</td>\n",
              "    </tr>\n",
              "    <tr>\n",
              "      <th>2756</th>\n",
              "      <td>12354.27</td>\n",
              "      <td>6.014475</td>\n",
              "      <td>12354.28</td>\n",
              "      <td>0.400000</td>\n",
              "      <td>12354.275</td>\n",
              "      <td>12354.279376</td>\n",
              "      <td>8.094367e-07</td>\n",
              "      <td>0.000000</td>\n",
              "    </tr>\n",
              "    <tr>\n",
              "      <th>2757</th>\n",
              "      <td>12354.28</td>\n",
              "      <td>3.529510</td>\n",
              "      <td>12354.58</td>\n",
              "      <td>0.034787</td>\n",
              "      <td>12354.430</td>\n",
              "      <td>12354.577072</td>\n",
              "      <td>2.428308e-05</td>\n",
              "      <td>0.000013</td>\n",
              "    </tr>\n",
              "    <tr>\n",
              "      <th>2758</th>\n",
              "      <td>12354.35</td>\n",
              "      <td>0.009440</td>\n",
              "      <td>12354.36</td>\n",
              "      <td>2.443991</td>\n",
              "      <td>12354.355</td>\n",
              "      <td>12354.350038</td>\n",
              "      <td>8.094315e-07</td>\n",
              "      <td>-0.000006</td>\n",
              "    </tr>\n",
              "  </tbody>\n",
              "</table>\n",
              "<p>2759 rows × 8 columns</p>\n",
              "</div>\n",
              "      <button class=\"colab-df-convert\" onclick=\"convertToInteractive('df-82fcd3bf-a368-40fb-812b-f3998d5675d5')\"\n",
              "              title=\"Convert this dataframe to an interactive table.\"\n",
              "              style=\"display:none;\">\n",
              "        \n",
              "  <svg xmlns=\"http://www.w3.org/2000/svg\" height=\"24px\"viewBox=\"0 0 24 24\"\n",
              "       width=\"24px\">\n",
              "    <path d=\"M0 0h24v24H0V0z\" fill=\"none\"/>\n",
              "    <path d=\"M18.56 5.44l.94 2.06.94-2.06 2.06-.94-2.06-.94-.94-2.06-.94 2.06-2.06.94zm-11 1L8.5 8.5l.94-2.06 2.06-.94-2.06-.94L8.5 2.5l-.94 2.06-2.06.94zm10 10l.94 2.06.94-2.06 2.06-.94-2.06-.94-.94-2.06-.94 2.06-2.06.94z\"/><path d=\"M17.41 7.96l-1.37-1.37c-.4-.4-.92-.59-1.43-.59-.52 0-1.04.2-1.43.59L10.3 9.45l-7.72 7.72c-.78.78-.78 2.05 0 2.83L4 21.41c.39.39.9.59 1.41.59.51 0 1.02-.2 1.41-.59l7.78-7.78 2.81-2.81c.8-.78.8-2.07 0-2.86zM5.41 20L4 18.59l7.72-7.72 1.47 1.35L5.41 20z\"/>\n",
              "  </svg>\n",
              "      </button>\n",
              "      \n",
              "  <style>\n",
              "    .colab-df-container {\n",
              "      display:flex;\n",
              "      flex-wrap:wrap;\n",
              "      gap: 12px;\n",
              "    }\n",
              "\n",
              "    .colab-df-convert {\n",
              "      background-color: #E8F0FE;\n",
              "      border: none;\n",
              "      border-radius: 50%;\n",
              "      cursor: pointer;\n",
              "      display: none;\n",
              "      fill: #1967D2;\n",
              "      height: 32px;\n",
              "      padding: 0 0 0 0;\n",
              "      width: 32px;\n",
              "    }\n",
              "\n",
              "    .colab-df-convert:hover {\n",
              "      background-color: #E2EBFA;\n",
              "      box-shadow: 0px 1px 2px rgba(60, 64, 67, 0.3), 0px 1px 3px 1px rgba(60, 64, 67, 0.15);\n",
              "      fill: #174EA6;\n",
              "    }\n",
              "\n",
              "    [theme=dark] .colab-df-convert {\n",
              "      background-color: #3B4455;\n",
              "      fill: #D2E3FC;\n",
              "    }\n",
              "\n",
              "    [theme=dark] .colab-df-convert:hover {\n",
              "      background-color: #434B5C;\n",
              "      box-shadow: 0px 1px 3px 1px rgba(0, 0, 0, 0.15);\n",
              "      filter: drop-shadow(0px 1px 2px rgba(0, 0, 0, 0.3));\n",
              "      fill: #FFFFFF;\n",
              "    }\n",
              "  </style>\n",
              "\n",
              "      <script>\n",
              "        const buttonEl =\n",
              "          document.querySelector('#df-82fcd3bf-a368-40fb-812b-f3998d5675d5 button.colab-df-convert');\n",
              "        buttonEl.style.display =\n",
              "          google.colab.kernel.accessAllowed ? 'block' : 'none';\n",
              "\n",
              "        async function convertToInteractive(key) {\n",
              "          const element = document.querySelector('#df-82fcd3bf-a368-40fb-812b-f3998d5675d5');\n",
              "          const dataTable =\n",
              "            await google.colab.kernel.invokeFunction('convertToInteractive',\n",
              "                                                     [key], {});\n",
              "          if (!dataTable) return;\n",
              "\n",
              "          const docLinkHtml = 'Like what you see? Visit the ' +\n",
              "            '<a target=\"_blank\" href=https://colab.research.google.com/notebooks/data_table.ipynb>data table notebook</a>'\n",
              "            + ' to learn more about interactive tables.';\n",
              "          element.innerHTML = '';\n",
              "          dataTable['output_type'] = 'display_data';\n",
              "          await google.colab.output.renderOutput(dataTable, element);\n",
              "          const docLink = document.createElement('div');\n",
              "          docLink.innerHTML = docLinkHtml;\n",
              "          element.appendChild(docLink);\n",
              "        }\n",
              "      </script>\n",
              "    </div>\n",
              "  </div>\n",
              "  "
            ]
          },
          "metadata": {},
          "execution_count": 16
        }
      ]
    },
    {
      "cell_type": "markdown",
      "source": [
        "## pending order\n"
      ],
      "metadata": {
        "id": "_QZuD9qlJ1rf"
      }
    },
    {
      "cell_type": "markdown",
      "source": [
        "## plot "
      ],
      "metadata": {
        "id": "uAIFGDfoJxyh"
      }
    },
    {
      "cell_type": "code",
      "execution_count": null,
      "metadata": {
        "id": "igRLG4XyJat1",
        "outputId": "f5105cb8-2435-4cc3-9314-33662b6ae496",
        "colab": {
          "base_uri": "https://localhost:8080/",
          "height": 313
        }
      },
      "outputs": [
        {
          "output_type": "execute_result",
          "data": {
            "text/plain": [
              "Text(0, 0.5, 'Quoto')"
            ]
          },
          "metadata": {},
          "execution_count": 6
        },
        {
          "output_type": "display_data",
          "data": {
            "text/plain": [
              "<Figure size 432x288 with 1 Axes>"
            ],
            "image/png": "[encoded data removed]"
          },
          "metadata": {
            "needs_background": "light"
          }
        }
      ],
      "source": [
        "bid=pd.DataFrame(orderbook_list[0].bid, columns =['price', 'quantity', 'quote'], dtype = float) \n",
        "bid['side']='bid'\n",
        "ask=pd.DataFrame(orderbook_list[0].ask, columns =['price', 'quantity', 'quote'], dtype = float) \n",
        "ask['side']='ask'\n",
        "frames=[bid,ask]\n",
        "result=pd.concat(frames)\n",
        "\n",
        "fig, ax = plt.subplots()\n",
        "ax.set_title(f\"orderbook\")\n",
        "\n",
        "sns.scatterplot(x=\"price\", y=\"quote\", hue=\"side\", data=result, ax=ax)\n",
        "\n",
        "ax.set_xlabel(\"Price\")\n",
        "ax.set_ylabel(\"Quoto\")\n"
      ]
    },
    {
      "cell_type": "markdown",
      "source": [
        "##Extract Signal"
      ],
      "metadata": {
        "id": "FnP7dUKL38O3"
      }
    },
    {
      "cell_type": "code",
      "source": [
        "def RSI(t, periods=100):\n",
        "    length = len(t)\n",
        "    rsies = [np.nan]*length\n",
        "    \n",
        "    if length <= periods:\n",
        "        return rsies\n",
        "  \n",
        "    up_avg = 0\n",
        "    down_avg = 0\n",
        "\n",
        "    #首先计算第一个RSI，用前periods+1个数据，构成periods个价差序列;\n",
        "    first_t = t[:periods+1]\n",
        "    for i in range(1, len(first_t)):\n",
        "        #价格上涨;\n",
        "        if first_t[i] >= first_t[i-1]:\n",
        "            up_avg += first_t[i] - first_t[i-1]\n",
        "        #价格下跌;\n",
        "        else:\n",
        "            down_avg += first_t[i-1] - first_t[i]\n",
        "    up_avg = up_avg / periods\n",
        "    down_avg = down_avg / periods\n",
        "    rs = up_avg / down_avg\n",
        "    rsies[periods] = 100 - 100/(1+rs)\n",
        "\n",
        "\n",
        "    for j in range(periods+1, length):\n",
        "        up = 0\n",
        "        down = 0\n",
        "        if t[j] >= t[j-1]:\n",
        "            up = t[j] - t[j-1]\n",
        "            down = 0\n",
        "        else:\n",
        "            up = 0\n",
        "            down = t[j-1] - t[j]\n",
        "        #类似移动平均的计算公式;\n",
        "        up_avg = (up_avg*(periods - 1) + up)/periods\n",
        "        down_avg = (down_avg*(periods - 1) + down)/periods\n",
        "        rs = up_avg/down_avg\n",
        "        rsies[j] = 100 - 100/(1+rs)\n",
        "    return rsies  \n",
        "   "
      ],
      "metadata": {
        "id": "YKddsdPj4Hwz"
      },
      "execution_count": 17,
      "outputs": []
    },
    {
      "cell_type": "code",
      "source": [
        "#通过波动率决定摆盘总金额\n",
        "\n",
        "def past_realized_volatility(time, N):\n",
        "  sum=0\n",
        "  for i in range(1,1000):\n",
        "      sum+=pow((log(orderbook_1['wap'][time-i])-log(orderbook_1['wap'][time-1-i])),2)\n",
        "  \n",
        "  return sum/N\n",
        "\n",
        "\n"
      ],
      "metadata": {
        "id": "uITgrtx4EJ9a"
      },
      "execution_count": 13,
      "outputs": []
    },
    {
      "cell_type": "code",
      "source": [
        "#判读买盘还是卖盘\n",
        "def past_realized_volatility(time, N):\n",
        "  sum=0\n",
        "  for i in range(1,1000):\n",
        "      sum+=pow((log(orderbook_1['wap'][time-i])-log(orderbook_1['wap'][time-1-i])),2)\n",
        "  \n",
        "  return sum/N"
      ],
      "metadata": {
        "id": "MsKjX1HZOrRd"
      },
      "execution_count": null,
      "outputs": []
    },
    {
      "cell_type": "code",
      "source": [
        "# 判断自身资金平衡性\n"
      ],
      "metadata": {
        "id": "SSiVDpRGOv6Z"
      },
      "execution_count": null,
      "outputs": []
    },
    {
      "cell_type": "markdown",
      "source": [
        "## shape of pending order"
      ],
      "metadata": {
        "id": "SmBUwy_iBfZB"
      }
    },
    {
      "cell_type": "code",
      "source": [
        ""
      ],
      "metadata": {
        "id": "saZXEZnBas0g"
      },
      "execution_count": null,
      "outputs": []
    },
    {
      "cell_type": "code",
      "source": [
        "def pending(levels, spread, cash_amount, coin_amount, t, midPrice, orderbook):\n",
        "  # 如果波动率大 减小前半部分挂单或者挂单金额总量\n",
        "  # 离中间价越远 挂单量越多\n",
        "  # \n",
        "  \n",
        "  \n",
        "  pending_bidP=[]\n",
        "  pending_bidQ=[]\n",
        "  pending_askP=[]\n",
        "  pending_askQ=[]\n",
        "\n",
        "\n",
        " # 初始状态 使用线性函数或者反函数，根据不同参数进行修改\n",
        "\n",
        " # 初始化\n",
        "  count=0\n",
        "  # 积分\n",
        "  for i in range(1,levels):\n",
        "    count+=i \n",
        "  per_ask= coin_amount/count\n",
        "  per_bid= cash_amount/count\n",
        "\n",
        "  for i in range(1,levels):\n",
        "    pending_bidP.append(midPrice(1-i*spread))\n",
        "    pending_askP.append(midPrice(1+i*spread))\n",
        "    pending_bidQ.append(per_bid*i)\n",
        "    pending_askQ.append(per_ask*i)\n",
        "  \n",
        "\n",
        "#波动率过大\n",
        "\n",
        "#超买\n",
        "\n",
        "#超卖\n",
        "\n",
        "\n",
        "  return list(zip( pending_bidP,pending_bidQ,pending_askP,pending_askQ))"
      ],
      "metadata": {
        "id": "vBJQkEDZCL6S"
      },
      "execution_count": null,
      "outputs": []
    },
    {
      "cell_type": "code",
      "source": [
        "# 测试与画图\n",
        "pend=pending(20,0.01,10000, 1, 1000, midPrice, orderbook_1):\n",
        "\n",
        "bid=pd.DataFrame(orderbook_list[0].bid, columns =['price', 'quantity', 'quote'], dtype = float) \n",
        "bid['side']='bid'\n",
        "ask=pd.DataFrame(orderbook_list[0].ask, columns =['price', 'quantity', 'quote'], dtype = float) \n",
        "ask['side']='ask'\n",
        "frames=[bid,ask]\n",
        "result=pd.concat(frames)\n",
        "\n",
        "fig, ax = plt.subplots()\n",
        "ax.set_title(f\"orderbook\")\n",
        "\n",
        "sns.scatterplot(x=\"price\", y=\"quote\", hue=\"side\", data=result, ax=ax)\n",
        "\n",
        "ax.set_xlabel(\"Price\")\n",
        "ax.set_ylabel(\"Quoto\")"
      ],
      "metadata": {
        "id": "yQWB7NXsdber"
      },
      "execution_count": null,
      "outputs": []
    }
  ]
}